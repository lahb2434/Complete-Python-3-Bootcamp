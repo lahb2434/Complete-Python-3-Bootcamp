{
 "cells": [
  {
   "cell_type": "code",
   "execution_count": 4,
   "id": "fbb56ad7",
   "metadata": {},
   "outputs": [
    {
     "data": {
      "text/plain": [
       "'ttthhhiiisssiiisssaaassstttrrriiinnnggg'"
      ]
     },
     "execution_count": 4,
     "metadata": {},
     "output_type": "execute_result"
    }
   ],
   "source": [
    "a_string = ''\n",
    "for element in text:\n",
    "    a_string = a_string + element*3\n",
    "a_string"
   ]
  },
  {
   "cell_type": "code",
   "execution_count": 10,
   "id": "4f9ae7bd",
   "metadata": {},
   "outputs": [],
   "source": [
    "def mongo(a,b,c):\n",
    "    total = a+b+c\n",
    "    if 11 in [a,b,c]:\n",
    "        print(total-10)\n",
    "    else:\n",
    "        print(total)"
   ]
  },
  {
   "cell_type": "code",
   "execution_count": 11,
   "id": "bf3ccd38",
   "metadata": {},
   "outputs": [
    {
     "name": "stdout",
     "output_type": "stream",
     "text": [
      "18\n"
     ]
    }
   ],
   "source": [
    "mongo(6,3,9)"
   ]
  },
  {
   "cell_type": "code",
   "execution_count": 12,
   "id": "7f26340e",
   "metadata": {},
   "outputs": [],
   "source": [
    "x = (1,2,3)"
   ]
  },
  {
   "cell_type": "code",
   "execution_count": 35,
   "id": "e3e3c5c7",
   "metadata": {},
   "outputs": [
    {
     "data": {
      "text/plain": [
       "201"
      ]
     },
     "execution_count": 35,
     "metadata": {},
     "output_type": "execute_result"
    }
   ],
   "source": []
  },
  {
   "cell_type": "code",
   "execution_count": 25,
   "id": "b3f72eca",
   "metadata": {},
   "outputs": [],
   "source": [
    "from time import time "
   ]
  },
  {
   "cell_type": "code",
   "execution_count": 29,
   "id": "8759816a",
   "metadata": {},
   "outputs": [],
   "source": [
    "time_start = time()"
   ]
  },
  {
   "cell_type": "code",
   "execution_count": 30,
   "id": "c3ae0099",
   "metadata": {},
   "outputs": [],
   "source": [
    "duration = time() - time_start"
   ]
  },
  {
   "cell_type": "code",
   "execution_count": 33,
   "id": "8bffd109",
   "metadata": {},
   "outputs": [
    {
     "data": {
      "text/plain": [
       "67"
      ]
     },
     "execution_count": 33,
     "metadata": {},
     "output_type": "execute_result"
    }
   ],
   "source": [
    "sum((11,23,33))"
   ]
  },
  {
   "cell_type": "code",
   "execution_count": 64,
   "id": "50c6c8f8",
   "metadata": {},
   "outputs": [],
   "source": [
    "def clock_it(method_1, method_2):\n",
    "    time_start = time()\n",
    "    for _ in range(100000):\n",
    "        method_1\n",
    "    duration = time() - time_start\n",
    "    print(f\"method 1: {duration}\")\n",
    "    time_start = time()\n",
    "    for _ in range(100000):\n",
    "        method_2\n",
    "    duration = time() - time_start\n",
    "    print(f\"method 2: {duration}\")\n",
    "    "
   ]
  },
  {
   "cell_type": "code",
   "execution_count": 79,
   "id": "06a26316",
   "metadata": {},
   "outputs": [],
   "source": [
    "def blackjack_1(a,b,c):\n",
    "    total = sum((a,b,c))\n",
    "    if total > 21 and 11 in (a,b,c):\n",
    "        total -= 10\n",
    "    elif total > 21:\n",
    "        total = 'BUST'\n",
    "    return total"
   ]
  },
  {
   "cell_type": "code",
   "execution_count": 65,
   "id": "d24e27e7",
   "metadata": {},
   "outputs": [],
   "source": [
    "def blackjack_2(a,b,c):   \n",
    "    if sum((a,b,c)) <= 21:\n",
    "        return sum((a,b,c))\n",
    "    elif sum((a,b,c)) > 21 and 11 in (a,b,c):\n",
    "        return sum((a,b,c)) - 10\n",
    "    else:\n",
    "        return 'BUST'"
   ]
  },
  {
   "cell_type": "code",
   "execution_count": 86,
   "id": "d602ba96",
   "metadata": {},
   "outputs": [
    {
     "name": "stdout",
     "output_type": "stream",
     "text": [
      "method 1: 0.008642196655273438\n",
      "method 2: 0.007948875427246094\n"
     ]
    }
   ],
   "source": [
    "clock_it(blackjack_1(11,6,9), blackjack_2(11,6,9))"
   ]
  },
  {
   "cell_type": "code",
   "execution_count": 89,
   "id": "6ab44058",
   "metadata": {},
   "outputs": [
    {
     "name": "stdout",
     "output_type": "stream",
     "text": [
      "method 1: 0.009769916534423828\n",
      "method 2: 0.008208036422729492\n"
     ]
    }
   ],
   "source": [
    "clock_it(11+6+9, sum((11,6,9)))"
   ]
  },
  {
   "cell_type": "code",
   "execution_count": null,
   "id": "4856cb5e",
   "metadata": {},
   "outputs": [],
   "source": []
  }
 ],
 "metadata": {
  "kernelspec": {
   "display_name": "Python 3 (ipykernel)",
   "language": "python",
   "name": "python3"
  },
  "language_info": {
   "codemirror_mode": {
    "name": "ipython",
    "version": 3
   },
   "file_extension": ".py",
   "mimetype": "text/x-python",
   "name": "python",
   "nbconvert_exporter": "python",
   "pygments_lexer": "ipython3",
   "version": "3.9.7"
  }
 },
 "nbformat": 4,
 "nbformat_minor": 5
}
